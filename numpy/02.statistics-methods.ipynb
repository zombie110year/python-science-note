{
 "cells": [
  {
   "cell_type": "code",
   "execution_count": 1,
   "metadata": {},
   "outputs": [],
   "source": [
    "import numpy as np\n",
    "import pandas as pd"
   ]
  },
  {
   "cell_type": "markdown",
   "metadata": {},
   "source": [
    "# 统计时常用方法"
   ]
  },
  {
   "cell_type": "markdown",
   "metadata": {},
   "source": [
    "## where 合并数组\n",
    "\n",
    "可以使用 `np.where` 来按条件合并两个数组，这个函数传入三个数组：条件数组、x数组、y数组。\n",
    "\n",
    "条件数组为一个与 x、y 相同长度的布尔数组，需要提前对 x、y 进行逻辑运算得到，当条件数组中元素的值为 True 时，新数组对应位置的值为 x 对应位置的值，否则为 y 数组中的值。\n",
    "\n",
    "例如："
   ]
  },
  {
   "cell_type": "code",
   "execution_count": 21,
   "metadata": {},
   "outputs": [
    {
     "name": "stdout",
     "output_type": "stream",
     "text": [
      "[False False False False False  True]\n"
     ]
    },
    {
     "data": {
      "text/plain": [
       "array([2, 1, 3, 4, 5, 5])"
      ]
     },
     "execution_count": 21,
     "metadata": {},
     "output_type": "execute_result"
    }
   ],
   "source": [
    "x = np.array([1, 1, 2, 3, 4, 5])\n",
    "y = np.array([2, 1, 3, 4, 5, 1])\n",
    "greater = x > y\n",
    "print(greater)\n",
    "np.where(greater, x, y)"
   ]
  },
  {
   "cell_type": "markdown",
   "metadata": {},
   "source": [
    "## 统计方法\n",
    "\n"
   ]
  },
  {
   "cell_type": "markdown",
   "metadata": {},
   "source": [
    "这里加载一个 csv 文件作为示例。这个文件是通过一次 45 钢单向拉伸实验得到的，分三列，分别是开机时间、载荷、位移。"
   ]
  },
  {
   "cell_type": "code",
   "execution_count": 28,
   "metadata": {},
   "outputs": [],
   "source": [
    "# 加载其中的载荷值为示例数组\n",
    "data = pd.read_csv(\"../data/steel-F-L.csv\")\n",
    "array = data[\"LoadValue\"].to_numpy(dtype=np.float64, copy=True)"
   ]
  },
  {
   "cell_type": "markdown",
   "metadata": {},
   "source": [
    "## 统计常用值\n",
    "\n",
    "- `max()`: 最大值\n",
    "- `min()`: 最小值\n",
    "- `mean()`: 平均值\n",
    "- `sum()`: 累和\n",
    "- `prod()`: 累积\n",
    "- `std()`: 标准差\n",
    "- `var()`: 方差\n",
    "\n",
    "众数，中位数？"
   ]
  },
  {
   "cell_type": "code",
   "execution_count": 29,
   "metadata": {},
   "outputs": [
    {
     "data": {
      "text/plain": [
       "35338.44922"
      ]
     },
     "execution_count": 29,
     "metadata": {},
     "output_type": "execute_result"
    }
   ],
   "source": [
    "# .max, .min 方法会取出数组中的最大值与最小值\n",
    "array.max()"
   ]
  },
  {
   "cell_type": "code",
   "execution_count": 30,
   "metadata": {},
   "outputs": [
    {
     "data": {
      "text/plain": [
       "58.1696701"
      ]
     },
     "execution_count": 30,
     "metadata": {},
     "output_type": "execute_result"
    }
   ],
   "source": [
    "# .min\n",
    "array.min()"
   ]
  },
  {
   "cell_type": "markdown",
   "metadata": {},
   "source": [
    "可以使用 "
   ]
  },
  {
   "cell_type": "markdown",
   "metadata": {},
   "source": [
    "对于其他值的搜索，可以先使用 `.sort` 方法排序后进行操作。"
   ]
  },
  {
   "cell_type": "code",
   "execution_count": null,
   "metadata": {},
   "outputs": [],
   "source": []
  },
  {
   "cell_type": "markdown",
   "metadata": {},
   "source": [
    "## 过滤\n",
    "\n",
    "例如，我们如果要选择数组中所有小于 1000 的数，可以这样："
   ]
  },
  {
   "cell_type": "code",
   "execution_count": 31,
   "metadata": {},
   "outputs": [
    {
     "data": {
      "text/plain": [
       "array([ 58.1696701, 121.1423416, 211.0575562, 328.3574829, 473.5453491,\n",
       "       646.6210938, 845.6635132])"
      ]
     },
     "execution_count": 31,
     "metadata": {},
     "output_type": "execute_result"
    }
   ],
   "source": [
    "array[array < 1000.0]"
   ]
  },
  {
   "cell_type": "markdown",
   "metadata": {},
   "source": [
    "在 `[]` 运算符内部，`array < 1000` 实际上利用数组的广播特性构造了一个由 `True, False` 构成的同等长度的布尔数组。\n",
    "而将此布尔数组传递给 `__getitem__` 方法时，将会返回由对应位置的布尔值为 `True` 的元素构成的新数组。numpy 在索引时，默认都会进行复制。"
   ]
  },
  {
   "cell_type": "markdown",
   "metadata": {},
   "source": [
    "布尔数组之间也可以通过位运算来继续过滤，添加与或非等逻辑关系。但是由于位运算优先级比较低，因此需要注意添加括号。\n",
    "避免因优先级出现问题导致计算出错误结果。"
   ]
  },
  {
   "cell_type": "code",
   "execution_count": 32,
   "metadata": {},
   "outputs": [
    {
     "data": {
      "text/plain": [
       "array([121.1423416, 211.0575562, 328.3574829, 473.5453491, 646.6210938,\n",
       "       845.6635132])"
      ]
     },
     "execution_count": 32,
     "metadata": {},
     "output_type": "execute_result"
    }
   ],
   "source": [
    "array[(array < 1000.0)&(array > 100.0)]"
   ]
  },
  {
   "cell_type": "markdown",
   "metadata": {},
   "source": [
    "## 反查索引\n",
    "\n",
    "当得到一组值后，如何反查此数值在数组中的位置？"
   ]
  },
  {
   "cell_type": "markdown",
   "metadata": {},
   "source": [
    "搜索最大值、最小值的功能可以由 `.argmax`, `.argmin` 方法实现。"
   ]
  },
  {
   "cell_type": "code",
   "execution_count": 33,
   "metadata": {},
   "outputs": [
    {
     "data": {
      "text/plain": [
       "3283"
      ]
     },
     "execution_count": 33,
     "metadata": {},
     "output_type": "execute_result"
    }
   ],
   "source": [
    "# 得到最大值的索引\n",
    "array.argmax()"
   ]
  },
  {
   "cell_type": "code",
   "execution_count": 35,
   "metadata": {},
   "outputs": [
    {
     "data": {
      "text/plain": [
       "True"
      ]
     },
     "execution_count": 35,
     "metadata": {},
     "output_type": "execute_result"
    }
   ],
   "source": [
    "array[array.argmax()] == array.max()"
   ]
  },
  {
   "cell_type": "code",
   "execution_count": 36,
   "metadata": {},
   "outputs": [
    {
     "data": {
      "text/plain": [
       "0"
      ]
     },
     "execution_count": 36,
     "metadata": {},
     "output_type": "execute_result"
    }
   ],
   "source": [
    "# 得到最小值的索引\n",
    "array.argmin()"
   ]
  },
  {
   "cell_type": "markdown",
   "metadata": {},
   "source": [
    "> 其他还有一些 `.arg` 开头的方法，它们的作用是：\n",
    ">\n",
    "> 1. `argsort`：得到对数组进行排序后，各元素对应的旧索引值。\n",
    "> 2. `argpartition`: ?"
   ]
  },
  {
   "cell_type": "markdown",
   "metadata": {},
   "source": [
    "如果要搜索其他的值，numpy 没有提供直接的方法，但是可以通过 `.searchsorted` 方法找到相同元素的排序插入位置，一般在原处就是第一个找到的值。"
   ]
  }
 ],
 "metadata": {
  "kernelspec": {
   "display_name": "Python 3",
   "language": "python",
   "name": "python3"
  },
  "language_info": {
   "codemirror_mode": {
    "name": "ipython",
    "version": 3
   },
   "file_extension": ".py",
   "mimetype": "text/x-python",
   "name": "python",
   "nbconvert_exporter": "python",
   "pygments_lexer": "ipython3",
   "version": "3.8.0"
  }
 },
 "nbformat": 4,
 "nbformat_minor": 4
}
