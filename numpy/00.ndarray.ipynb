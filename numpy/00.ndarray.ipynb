{
 "cells": [
  {
   "cell_type": "markdown",
   "metadata": {},
   "source": [
    "# Numpy 的多维数组\n",
    "\n",
    "numpy 最主要的特性就是提供了这个名为 `ndarray` 的多维数组类。其采用 C 实现，提供了 Python 接口。\n",
    "\n",
    "ndarray 可以通过构造函数 `np.ndarray` 来创建，也可以使用一个简写的构造函数 `np.array`。\n",
    "不过，前者会创建一个空的数组，后者则额外接收初始化数据。"
   ]
  },
  {
   "cell_type": "markdown",
   "metadata": {},
   "source": [
    "在使用之前，先了解一些基本概念：\n",
    "\n",
    "1. ndarray 不是矩阵。\n",
    "\n",
    "ndarray 是多维数组，虽然当构造为 2 维数组时看起来很像矩阵，但其运算法则不是。\n",
    "在 ndarray 的计算中，你会遇到名为 [广播]() 的现象，这对于一些数据处理来说有一定作用。\n",
    "\n",
    "2. ndarray 中的元素具有同一类型。\n",
    "\n",
    "整个 numpy 库都是用 C 实现的，只是提供了 Python 接口罢了。ndarray 也是同样。\n",
    "其中的元素都必须有 C 类型，`int`, `float` 等，而不是像 Python 那样，各个类型可以随意转换\n",
    "（Python 也是用 C 实现的，在 C 中， Python 对象其实都是 `PyObject` 结构体。\n",
    "\n",
    "在构造函数 `ndarray` 中，\n",
    "默认的数据类型是 `float`。这些类型名称可以在 numpy 的顶级模块找到，如 `np.float64` 等。\n",
    "numpy 中的大多数函数都接受 `dtype` 参数以设置类型。\n",
    "\n",
    "对于构造函数 `np.array`，其会自动分析传入的数据，将其设置为相对应的类型： `int` -> `np.int`, `float` -> `np.float`。"
   ]
  },
  {
   "cell_type": "code",
   "execution_count": 1,
   "metadata": {},
   "outputs": [],
   "source": [
    "import numpy as np"
   ]
  },
  {
   "cell_type": "markdown",
   "metadata": {},
   "source": [
    "> `np` 是导入 numpy 时的惯用别名，其他常用工具如 `pandas` 常用 `pd`, `matplotlib.pyplot` 则常简写为 `plt`。"
   ]
  },
  {
   "cell_type": "markdown",
   "metadata": {},
   "source": [
    "## 构造多维数组"
   ]
  },
  {
   "cell_type": "markdown",
   "metadata": {},
   "source": [
    "让我们试试创建一个二维数组。\n",
    "\n",
    "可以向构造函数传入 Python 中的列表/元组等容器元素，将其中的数据转化为 ndarray 中的元素，如："
   ]
  },
  {
   "cell_type": "code",
   "execution_count": 2,
   "metadata": {},
   "outputs": [
    {
     "data": {
      "text/plain": [
       "array([[ 0.00000000e+000,  0.00000000e+000],\n",
       "       [ 0.00000000e+000, -8.92580403e-311]])"
      ]
     },
     "execution_count": 2,
     "metadata": {},
     "output_type": "execute_result"
    }
   ],
   "source": [
    "np.ndarray(shape=(2, 2), dtype=np.float64)"
   ]
  },
  {
   "cell_type": "markdown",
   "metadata": {},
   "source": [
    "使用 `np.ndarray` 时，根据设置的 shape，dtype 参数，将这个数组构造为 $2\\times2$ 的 64 位浮点数数组。\n",
    "如你所见，其内容是空的，值非常接近于 0.（可能是 $n\\times10^{-300}$ 这样的值）。"
   ]
  },
  {
   "cell_type": "markdown",
   "metadata": {},
   "source": [
    "使用 `np.array` 时，需要传入初始化数据，但不能设置 shape 参数了， shape 将会根据传入的参数自动设置："
   ]
  },
  {
   "cell_type": "code",
   "execution_count": 3,
   "metadata": {},
   "outputs": [
    {
     "data": {
      "text/plain": [
       "array([[1., 2.],\n",
       "       [3., 4.]])"
      ]
     },
     "execution_count": 3,
     "metadata": {},
     "output_type": "execute_result"
    }
   ],
   "source": [
    "np.array([\n",
    "    [1, 2],\n",
    "    [3, 4],\n",
    "], dtype=np.float)"
   ]
  },
  {
   "cell_type": "markdown",
   "metadata": {},
   "source": [
    "当我们传入一个嵌套的列表时，numpy 将其当作一个维度大于 1 的数组处理，嵌套层级越多，维度越高。注意这里设置了 `dtype=np.float` 参数，这是因为我们传入的列表中的元素是 Python 的 int 类型，numpy 会将其转化为 C 的 int。如果不设置 `dtype` 的话，数组中的数据类型就是整数，无法用来模拟数学运算中的实数了。\n",
    "\n",
    "当然，如果你本来就打算处理整数，例如处理图片，的话，就可以设置为整数。还有 `np.uint`, `npuint8` 等多种类型可用。\n",
    "\n",
    "总之，在不同的使用场景上，使用合适的数据类型。"
   ]
  },
  {
   "cell_type": "markdown",
   "metadata": {},
   "source": [
    "### 常见参数名\n",
    "\n",
    "上面提到了，numpy 中许多函数都接收 `dtype` 参数来设置类型。此外，也有需要常用的参数，例如 `shape`, `axis` 等。\n",
    "\n",
    "- `shape`: 一个元组，用于设置数组的大小与形状。元组的长度决定了数组的维度，在每一位上的值则决定了数组在这一维上的长度。\n",
    "- `axis`：0 或 1，"
   ]
  },
  {
   "cell_type": "markdown",
   "metadata": {},
   "source": [
    "## 多维数组取值或切片"
   ]
  },
  {
   "cell_type": "markdown",
   "metadata": {},
   "source": [
    "ndarray 实现了一系列操作符重载，要取出某个值或者取出切片，和普通列表一样使用 `[]` 运算府。\n",
    "\n",
    "> 重载对象的 `__getitem__` 方法。\n",
    "\n",
    "当维度只有 1 时， ndarray 表现得和普通列表没什么两样。"
   ]
  },
  {
   "cell_type": "code",
   "execution_count": 4,
   "metadata": {},
   "outputs": [],
   "source": [
    "A = np.array([1, 2, 3, 4, 5, 6])"
   ]
  },
  {
   "cell_type": "markdown",
   "metadata": {},
   "source": [
    "取出一个元素："
   ]
  },
  {
   "cell_type": "code",
   "execution_count": 5,
   "metadata": {},
   "outputs": [
    {
     "data": {
      "text/plain": [
       "1"
      ]
     },
     "execution_count": 5,
     "metadata": {},
     "output_type": "execute_result"
    }
   ],
   "source": [
    "A[0]"
   ]
  },
  {
   "cell_type": "markdown",
   "metadata": {},
   "source": [
    "切片："
   ]
  },
  {
   "cell_type": "code",
   "execution_count": 6,
   "metadata": {},
   "outputs": [
    {
     "data": {
      "text/plain": [
       "array([4, 5, 6])"
      ]
     },
     "execution_count": 6,
     "metadata": {},
     "output_type": "execute_result"
    }
   ],
   "source": [
    "A[3:]"
   ]
  },
  {
   "cell_type": "markdown",
   "metadata": {},
   "source": [
    "当维度增加后，ndarray 的 `[]` 运算符就可以接收元组了，元组中从左到右，分别是作用于从低到高维度的索引或切片。\n",
    "也可以接收 int 或 slice 对象，传入的索引长度不够也会转化为完整的元组，其他值默认以 `:` 填充。\n",
    "\n",
    "> `:` 是用于便利地构造 slice 对象的语法糖，但只在 `[]` 操作符中解析。"
   ]
  },
  {
   "cell_type": "code",
   "execution_count": 7,
   "metadata": {},
   "outputs": [],
   "source": [
    "A = np.array([\n",
    "    [\n",
    "        [111, 112, 113],\n",
    "        [121, 122, 123],\n",
    "        [131, 132, 133],\n",
    "    ],\n",
    "    [\n",
    "        [211, 212, 213],\n",
    "        [221, 222, 223],\n",
    "        [231, 232, 233],\n",
    "    ],\n",
    "    [\n",
    "        [311, 312, 313],\n",
    "        [321, 322, 323],\n",
    "        [331, 332, 333],\n",
    "    ],\n",
    "])"
   ]
  },
  {
   "cell_type": "markdown",
   "metadata": {},
   "source": [
    "当我们传入 0 时，其效果和传入 `0, :, :` 是一样的，会选择第一维坐标为 `0` 的切片："
   ]
  },
  {
   "cell_type": "code",
   "execution_count": 8,
   "metadata": {},
   "outputs": [
    {
     "data": {
      "text/plain": [
       "array([[111, 112, 113],\n",
       "       [121, 122, 123],\n",
       "       [131, 132, 133]])"
      ]
     },
     "execution_count": 8,
     "metadata": {},
     "output_type": "execute_result"
    }
   ],
   "source": [
    "A1 = A[0]\n",
    "A1"
   ]
  },
  {
   "cell_type": "code",
   "execution_count": 9,
   "metadata": {},
   "outputs": [
    {
     "data": {
      "text/plain": [
       "array([[111, 112, 113],\n",
       "       [121, 122, 123],\n",
       "       [131, 132, 133]])"
      ]
     },
     "execution_count": 9,
     "metadata": {},
     "output_type": "execute_result"
    }
   ],
   "source": [
    "A[0, :, :]"
   ]
  },
  {
   "cell_type": "markdown",
   "metadata": {},
   "source": [
    "传入 `0, 0` 时，就相当于 `0, 0, :`"
   ]
  },
  {
   "cell_type": "code",
   "execution_count": 10,
   "metadata": {},
   "outputs": [
    {
     "data": {
      "text/plain": [
       "array([111, 112, 113])"
      ]
     },
     "execution_count": 10,
     "metadata": {},
     "output_type": "execute_result"
    }
   ],
   "source": [
    "A11 = A[0, 0]\n",
    "A11"
   ]
  },
  {
   "cell_type": "markdown",
   "metadata": {},
   "source": [
    "传入 slice 以返回一个范围"
   ]
  },
  {
   "cell_type": "code",
   "execution_count": 11,
   "metadata": {},
   "outputs": [
    {
     "data": {
      "text/plain": [
       "array([111, 121])"
      ]
     },
     "execution_count": 11,
     "metadata": {},
     "output_type": "execute_result"
    }
   ],
   "source": [
    "A[0, :2, 0]"
   ]
  },
  {
   "cell_type": "markdown",
   "metadata": {},
   "source": [
    "接下来，要搞清楚一个问题：**选出的元素是值，还是引用？**\n",
    "\n",
    "这关系到对选出值的修改会不会影响到源数组的问题。"
   ]
  },
  {
   "cell_type": "markdown",
   "metadata": {},
   "source": [
    "对于切片，看来是 **不会影响**。"
   ]
  },
  {
   "cell_type": "code",
   "execution_count": 12,
   "metadata": {},
   "outputs": [],
   "source": [
    "A11 = np.array([999, 998, 997])"
   ]
  },
  {
   "cell_type": "code",
   "execution_count": 13,
   "metadata": {},
   "outputs": [
    {
     "data": {
      "text/plain": [
       "array([[[111, 112, 113],\n",
       "        [121, 122, 123],\n",
       "        [131, 132, 133]],\n",
       "\n",
       "       [[211, 212, 213],\n",
       "        [221, 222, 223],\n",
       "        [231, 232, 233]],\n",
       "\n",
       "       [[311, 312, 313],\n",
       "        [321, 322, 323],\n",
       "        [331, 332, 333]]])"
      ]
     },
     "execution_count": 13,
     "metadata": {},
     "output_type": "execute_result"
    }
   ],
   "source": [
    "A"
   ]
  },
  {
   "cell_type": "markdown",
   "metadata": {},
   "source": [
    "对于元素，也 **不会影响**。"
   ]
  },
  {
   "cell_type": "code",
   "execution_count": 14,
   "metadata": {},
   "outputs": [
    {
     "data": {
      "text/plain": [
       "array([[[111, 112, 113],\n",
       "        [121, 122, 123],\n",
       "        [131, 132, 133]],\n",
       "\n",
       "       [[211, 212, 213],\n",
       "        [221, 222, 223],\n",
       "        [231, 232, 233]],\n",
       "\n",
       "       [[311, 312, 313],\n",
       "        [321, 322, 323],\n",
       "        [331, 332, 333]]])"
      ]
     },
     "execution_count": 14,
     "metadata": {},
     "output_type": "execute_result"
    }
   ],
   "source": [
    "Ax = A[0, 0, 0]\n",
    "Ax = 0\n",
    "A"
   ]
  },
  {
   "cell_type": "markdown",
   "metadata": {},
   "source": [
    "接下来我们试试直接赋值："
   ]
  },
  {
   "cell_type": "code",
   "execution_count": 15,
   "metadata": {},
   "outputs": [],
   "source": [
    "A[0, 0, 0] = 999"
   ]
  },
  {
   "cell_type": "code",
   "execution_count": 16,
   "metadata": {},
   "outputs": [
    {
     "data": {
      "text/plain": [
       "array([[[999, 112, 113],\n",
       "        [121, 122, 123],\n",
       "        [131, 132, 133]],\n",
       "\n",
       "       [[211, 212, 213],\n",
       "        [221, 222, 223],\n",
       "        [231, 232, 233]],\n",
       "\n",
       "       [[311, 312, 313],\n",
       "        [321, 322, 323],\n",
       "        [331, 332, 333]]])"
      ]
     },
     "execution_count": 16,
     "metadata": {},
     "output_type": "execute_result"
    }
   ],
   "source": [
    "A"
   ]
  },
  {
   "cell_type": "code",
   "execution_count": 17,
   "metadata": {},
   "outputs": [
    {
     "data": {
      "text/plain": [
       "array([[[888, 777, 666],\n",
       "        [121, 122, 123],\n",
       "        [131, 132, 133]],\n",
       "\n",
       "       [[211, 212, 213],\n",
       "        [221, 222, 223],\n",
       "        [231, 232, 233]],\n",
       "\n",
       "       [[311, 312, 313],\n",
       "        [321, 322, 323],\n",
       "        [331, 332, 333]]])"
      ]
     },
     "execution_count": 17,
     "metadata": {},
     "output_type": "execute_result"
    }
   ],
   "source": [
    "A[0, 0, :] = np.array([888, 777, 666])\n",
    "A"
   ]
  },
  {
   "cell_type": "markdown",
   "metadata": {},
   "source": [
    "这样就会影响到了，什么原理？\n",
    "\n",
    "<!-- todo -->\n",
    "\n",
    "总结一下，当选出的区域赋值给一个变量时，发生了复制行为，对选出部分的修改不会影响到源。\n",
    "但当直接对选出部分赋值时，就会直接修改源了。"
   ]
  },
  {
   "cell_type": "markdown",
   "metadata": {},
   "source": [
    "## 特殊的多维数组\n",
    "\n",
    "numpy 提供了一系列常用多维数组/矩阵的构造方法，只要传入 shape，就会自动创建并将值初始化。"
   ]
  },
  {
   "cell_type": "markdown",
   "metadata": {},
   "source": [
    "### zeros\n",
    "\n",
    "零数组，传入 shape 参数。"
   ]
  },
  {
   "cell_type": "code",
   "execution_count": 18,
   "metadata": {},
   "outputs": [
    {
     "data": {
      "text/plain": [
       "array([0., 0., 0., 0., 0.])"
      ]
     },
     "execution_count": 18,
     "metadata": {},
     "output_type": "execute_result"
    }
   ],
   "source": [
    "np.zeros(5)"
   ]
  },
  {
   "cell_type": "code",
   "execution_count": 19,
   "metadata": {},
   "outputs": [
    {
     "data": {
      "text/plain": [
       "array([[0., 0., 0., 0., 0.],\n",
       "       [0., 0., 0., 0., 0.],\n",
       "       [0., 0., 0., 0., 0.],\n",
       "       [0., 0., 0., 0., 0.],\n",
       "       [0., 0., 0., 0., 0.]])"
      ]
     },
     "execution_count": 19,
     "metadata": {},
     "output_type": "execute_result"
    }
   ],
   "source": [
    "# 零矩阵\n",
    "np.zeros((5, 5))"
   ]
  },
  {
   "cell_type": "markdown",
   "metadata": {},
   "source": [
    "### eye\n",
    "\n",
    "单位矩阵。传入维度参数 N，创建对应的二维数组。\n",
    "\n",
    "如果额外传入列参数 M，则只保留 M 之前的列。"
   ]
  },
  {
   "cell_type": "code",
   "execution_count": 20,
   "metadata": {},
   "outputs": [
    {
     "data": {
      "text/plain": [
       "array([[1., 0., 0.],\n",
       "       [0., 1., 0.],\n",
       "       [0., 0., 1.]])"
      ]
     },
     "execution_count": 20,
     "metadata": {},
     "output_type": "execute_result"
    }
   ],
   "source": [
    "np.eye(3)"
   ]
  },
  {
   "cell_type": "code",
   "execution_count": 21,
   "metadata": {},
   "outputs": [
    {
     "data": {
      "text/plain": [
       "array([[1., 0.],\n",
       "       [0., 1.],\n",
       "       [0., 0.]])"
      ]
     },
     "execution_count": 21,
     "metadata": {},
     "output_type": "execute_result"
    }
   ],
   "source": [
    "np.eye(3, 2)"
   ]
  },
  {
   "cell_type": "markdown",
   "metadata": {},
   "source": [
    "### ones\n",
    "\n",
    "一数组："
   ]
  },
  {
   "cell_type": "code",
   "execution_count": 22,
   "metadata": {},
   "outputs": [
    {
     "data": {
      "text/plain": [
       "array([[1., 1., 1.],\n",
       "       [1., 1., 1.],\n",
       "       [1., 1., 1.]])"
      ]
     },
     "execution_count": 22,
     "metadata": {},
     "output_type": "execute_result"
    }
   ],
   "source": [
    "np.ones((3, 3))"
   ]
  },
  {
   "cell_type": "markdown",
   "metadata": {},
   "source": [
    "### 随机数组\n",
    "\n",
    "创建指定 shape 的随机数组成的数组。 （0~1）"
   ]
  },
  {
   "cell_type": "code",
   "execution_count": 23,
   "metadata": {},
   "outputs": [
    {
     "data": {
      "text/plain": [
       "array([[0.94323611, 0.37440566, 0.78161759],\n",
       "       [0.26326898, 0.86783822, 0.34688587],\n",
       "       [0.41556548, 0.78485376, 0.52480358]])"
      ]
     },
     "execution_count": 23,
     "metadata": {},
     "output_type": "execute_result"
    }
   ],
   "source": [
    "np.random.random((3, 3))"
   ]
  },
  {
   "cell_type": "markdown",
   "metadata": {},
   "source": [
    "在 `np.random` 子模块中，具有与标准库 `random` 命名相同的函数，用于以不同的随机数生成器生成数组。或者将原本操作单个数据的函数变为操作数组的函数。"
   ]
  },
  {
   "cell_type": "markdown",
   "metadata": {},
   "source": [
    "### 指定起点终点以及总数的线性序列\n",
    "\n",
    "用 `np.linspace` 创建具有线性规律的数组。\n",
    "一般设置 `start`, `stop` 和 `num` 参数，确定范围以及点的数目。\n",
    "\n",
    "可以设置 `axis` 参数，用来指定生成数组的轴。\n",
    "`axis>0` 的情况下 `start` 和 `stop` 参数需要为元组，分别指定每一维度上的起始点。 axis 则指定依照多维空间中的哪一根坐标轴。"
   ]
  },
  {
   "cell_type": "code",
   "execution_count": 24,
   "metadata": {},
   "outputs": [
    {
     "data": {
      "text/plain": [
       "array([0. , 0.5, 1. ])"
      ]
     },
     "execution_count": 24,
     "metadata": {},
     "output_type": "execute_result"
    }
   ],
   "source": [
    "np.linspace(0, 1, 3)"
   ]
  },
  {
   "cell_type": "code",
   "execution_count": 25,
   "metadata": {},
   "outputs": [
    {
     "data": {
      "text/plain": [
       "array([[0. , 1. ],\n",
       "       [1.5, 2.5],\n",
       "       [3. , 4. ]])"
      ]
     },
     "execution_count": 25,
     "metadata": {},
     "output_type": "execute_result"
    }
   ],
   "source": [
    "np.linspace((0, 1), (3, 4), 3)"
   ]
  },
  {
   "cell_type": "code",
   "execution_count": 26,
   "metadata": {},
   "outputs": [
    {
     "data": {
      "text/plain": [
       "array([[0. , 1.5, 3. ],\n",
       "       [1. , 2.5, 4. ]])"
      ]
     },
     "execution_count": 26,
     "metadata": {},
     "output_type": "execute_result"
    }
   ],
   "source": [
    "np.linspace((0, 1), (3, 4), 3, axis=1)"
   ]
  },
  {
   "cell_type": "markdown",
   "metadata": {},
   "source": [
    "### 指定范围与步长的线性序列\n",
    "\n",
    "使用 `np.arange`:"
   ]
  },
  {
   "cell_type": "code",
   "execution_count": 27,
   "metadata": {},
   "outputs": [
    {
     "data": {
      "text/plain": [
       "array([ 0, 25, 50, 75])"
      ]
     },
     "execution_count": 27,
     "metadata": {},
     "output_type": "execute_result"
    }
   ],
   "source": [
    "np.arange(0, 100, 25)"
   ]
  },
  {
   "cell_type": "markdown",
   "metadata": {},
   "source": [
    "### 指数序列\n",
    "\n",
    "和 linspace 类似，但各点之间按指数规律\n",
    "\n",
    "$$\n",
    "b^{x}\n",
    "$$\n",
    "\n",
    "再次映射，默认的基底为 10，可用 `base` 参数指定基底。"
   ]
  },
  {
   "cell_type": "code",
   "execution_count": 28,
   "metadata": {},
   "outputs": [
    {
     "data": {
      "text/plain": [
       "array([       1,      256,    65536, 16777216])"
      ]
     },
     "execution_count": 28,
     "metadata": {},
     "output_type": "execute_result"
    }
   ],
   "source": [
    "np.logspace(0, 24, 4, base=2, dtype=np.int)"
   ]
  },
  {
   "cell_type": "code",
   "execution_count": 29,
   "metadata": {},
   "outputs": [
    {
     "data": {
      "text/plain": [
       "[1, 256, 65536, 16777216]"
      ]
     },
     "execution_count": 29,
     "metadata": {},
     "output_type": "execute_result"
    }
   ],
   "source": [
    "[2**0, 2**8, 2**16, 2**24]"
   ]
  },
  {
   "cell_type": "markdown",
   "metadata": {},
   "source": [
    "## 索引和切片"
   ]
  },
  {
   "cell_type": "markdown",
   "metadata": {},
   "source": [
    "在一个数组中，如何找到一个元素，这是搜索问题；如何按条件取出部分数组，这是过滤问题；另外，也可以使用 Python 中的 int、slice、range 等结构，对数组进行切片。\n",
    "这些操作都可以通过数组的 `operator[]` 进行（也就是 `__getitem__` 方法）。\n",
    "\n",
    "另外， numpy 被设置为处理大量数据，当进行索引和切片时，其切出来的部分是原数组的引用，而不是值。\n",
    "也就是说，numpy 数组的索引和切片得到的是视图而不是克隆，对视图的所有操作都会影响到源数组。\n",
    "\n",
    "但是当这个视图被复制给一个变量时，就会发生复制行为了。"
   ]
  },
  {
   "cell_type": "code",
   "execution_count": 30,
   "metadata": {},
   "outputs": [
    {
     "data": {
      "text/plain": [
       "array([[1., 2., 3.],\n",
       "       [4., 5., 6.],\n",
       "       [7., 8., 9.]])"
      ]
     },
     "execution_count": 30,
     "metadata": {},
     "output_type": "execute_result"
    }
   ],
   "source": [
    "array = np.arange(1, 10, dtype=np.float64).reshape((3, 3))\n",
    "array"
   ]
  },
  {
   "cell_type": "code",
   "execution_count": 31,
   "metadata": {},
   "outputs": [
    {
     "data": {
      "text/plain": [
       "array([[1., 2., 3.],\n",
       "       [4., 5., 6.],\n",
       "       [7., 8., 9.]])"
      ]
     },
     "execution_count": 31,
     "metadata": {},
     "output_type": "execute_result"
    }
   ],
   "source": [
    "# 复制\n",
    "five = array[1, 1] # 5\n",
    "five = 0.5\n",
    "array"
   ]
  },
  {
   "cell_type": "code",
   "execution_count": 32,
   "metadata": {},
   "outputs": [
    {
     "data": {
      "text/plain": [
       "array([[1. , 2. , 3. ],\n",
       "       [4. , 0.5, 6. ],\n",
       "       [7. , 8. , 9. ]])"
      ]
     },
     "execution_count": 32,
     "metadata": {},
     "output_type": "execute_result"
    }
   ],
   "source": [
    "# 不复制\n",
    "array[1, 1] = 0.5\n",
    "array"
   ]
  },
  {
   "cell_type": "code",
   "execution_count": 33,
   "metadata": {},
   "outputs": [
    {
     "data": {
      "text/plain": [
       "array([[ 1. ,  2. ,  3. ],\n",
       "       [ 4. ,  0.5,  6. ],\n",
       "       [70. , 80. , 90. ]])"
      ]
     },
     "execution_count": 33,
     "metadata": {},
     "output_type": "execute_result"
    }
   ],
   "source": [
    "# 不复制\n",
    "array[2] = [70, 80, 90]\n",
    "array"
   ]
  },
  {
   "cell_type": "code",
   "execution_count": 34,
   "metadata": {},
   "outputs": [
    {
     "data": {
      "text/plain": [
       "array([[ 1. ,  2. ,  3. ],\n",
       "       [ 4. ,  0.5,  6. ],\n",
       "       [70. , 80. , 90. ]])"
      ]
     },
     "execution_count": 34,
     "metadata": {},
     "output_type": "execute_result"
    }
   ],
   "source": [
    "# 复制\n",
    "col1 = array[:, 0]\n",
    "col1 = [100, 400, 700]\n",
    "array"
   ]
  }
 ],
 "metadata": {
  "kernelspec": {
   "display_name": "Python 3",
   "language": "python",
   "name": "python3"
  },
  "language_info": {
   "codemirror_mode": {
    "name": "ipython",
    "version": 3
   },
   "file_extension": ".py",
   "mimetype": "text/x-python",
   "name": "python",
   "nbconvert_exporter": "python",
   "pygments_lexer": "ipython3",
   "version": "3.7.3"
  },
  "toc-autonumbering": true,
  "toc-showcode": false,
  "toc-showmarkdowntxt": false,
  "toc-showtags": false
 },
 "nbformat": 4,
 "nbformat_minor": 4
}
