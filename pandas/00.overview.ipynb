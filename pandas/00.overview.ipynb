{
 "cells": [
  {
   "cell_type": "markdown",
   "metadata": {},
   "source": [
    "# Pandas 总览\n",
    "\n",
    "pandas 主要提供了 DataFrame 和 Series 这两种数据结构，以及大量的数据保存格式的读取、写入方法。\n",
    "DataFrame 可以认为是一张二维表，而 Series 则是线性的结构。\n",
    "它们实际上都建立在 numpy 的多维数组上。\n",
    "\n",
    "DataFrame 提供了多种多样的数据索引手段，尤其是对每一列元素都可以命名，这就可以用一个字符串来索引某一列元素，提高代码的可读性。"
   ]
  }
 ],
 "metadata": {
  "kernelspec": {
   "display_name": "Python 3",
   "language": "python",
   "name": "python3"
  },
  "language_info": {
   "codemirror_mode": {
    "name": "ipython",
    "version": 3
   },
   "file_extension": ".py",
   "mimetype": "text/x-python",
   "name": "python",
   "nbconvert_exporter": "python",
   "pygments_lexer": "ipython3",
   "version": "3.7.3"
  }
 },
 "nbformat": 4,
 "nbformat_minor": 4
}
